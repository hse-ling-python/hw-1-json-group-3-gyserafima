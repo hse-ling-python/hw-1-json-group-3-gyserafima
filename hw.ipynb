{
 "cells": [
  {
   "cell_type": "code",
   "execution_count": 40,
   "metadata": {},
   "outputs": [
    {
     "data": {
      "text/plain": [
       "2556"
      ]
     },
     "execution_count": 40,
     "metadata": {},
     "output_type": "execute_result"
    }
   ],
   "source": [
    "import json\n",
    "import re\n",
    "from collections import Counter\n",
    "from pprint import pprint\n",
    "\n",
    "#количество твитов в наборе\n",
    "twitter = []\n",
    "for line in open('hw_3_twitter.json', 'r', encoding='utf-8'):\n",
    "    twitter.append(json.loads(line))\n",
    "len(twitter)\n",
    "\n",
    "\n",
    "    \n",
    "\n"
   ]
  },
  {
   "cell_type": "code",
   "execution_count": 108,
   "metadata": {
    "scrolled": true
   },
   "outputs": [
    {
     "data": {
      "text/plain": [
       "0.14162754303599373"
      ]
     },
     "execution_count": 108,
     "metadata": {},
     "output_type": "execute_result"
    }
   ],
   "source": [
    "#какой процент составляют удаленные \n",
    "deleted_t = 0\n",
    "for t in twitter:\n",
    "    t = str(t)\n",
    "    if t.startswith(\"{'delet\"):\n",
    "        deleted_t += 1\n",
    "deleted_t/len(twitter)"
   ]
  },
  {
   "cell_type": "code",
   "execution_count": 144,
   "metadata": {},
   "outputs": [
    {
     "name": "stdout",
     "output_type": "stream",
     "text": [
      "[('en', 3068), ('ja', 1062), ('es', 551), ('ko', 466), ('th', 405), ('ar', 288), ('pt', 243), ('und', 193), ('fr', 119), ('in', 114), ('tr', 92), ('ru', 48), ('hi', 47), ('tl', 45), ('id', 38), ('fa', 23), ('nl', 17), ('de', 17), ('en-gb', 17), ('pl', 17), ('it', 16), ('ca', 12), ('vi', 12), ('ur', 11), ('sv', 11), ('zh-tw', 10), ('zh', 10), ('fi', 7), ('el', 6), ('ta', 5), ('ht', 5), ('et', 5), ('eu', 3), ('cy', 3), ('zh-TW', 3), ('zh-CN', 3), ('hu', 2), ('bg', 2), ('uk', 2), ('cs', 2), ('zh-cn', 2), ('lv', 2), ('da', 2), ('no', 2), ('is', 1), ('en-GB', 1), ('iw', 1), ('zh-Hant', 1)]\n"
     ]
    }
   ],
   "source": [
    "lang = list()\n",
    "for t in twitter:\n",
    "    lang.extend(re.findall(r\"'lang': '(\\S+)'\", str(t)))\n",
    "freq_dict = Counter(lang)\n",
    "print(freq_dict.most_common(48))\n"
   ]
  },
  {
   "cell_type": "code",
   "execution_count": null,
   "metadata": {},
   "outputs": [],
   "source": []
  }
 ],
 "metadata": {
  "kernelspec": {
   "display_name": "Python 3",
   "language": "python",
   "name": "python3"
  },
  "language_info": {
   "codemirror_mode": {
    "name": "ipython",
    "version": 3
   },
   "file_extension": ".py",
   "mimetype": "text/x-python",
   "name": "python",
   "nbconvert_exporter": "python",
   "pygments_lexer": "ipython3",
   "version": "3.7.0"
  }
 },
 "nbformat": 4,
 "nbformat_minor": 2
}
